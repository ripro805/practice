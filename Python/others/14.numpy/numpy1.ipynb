{
 "cells": [
  {
   "cell_type": "markdown",
   "id": "29fda601-a7a5-4576-975f-f8296309175d",
   "metadata": {},
   "source": [
    "# WELCOME TO NUMPY"
   ]
  },
  {
   "cell_type": "code",
   "execution_count": 23,
   "id": "ab80dff3-6832-4805-9608-e4fe8394fcdf",
   "metadata": {},
   "outputs": [],
   "source": [
    " import numpy as np"
   ]
  },
  {
   "cell_type": "code",
   "execution_count": 2,
   "id": "f408c17c-86c8-46cb-a45f-34a0dba0873d",
   "metadata": {},
   "outputs": [],
   "source": [
    "myarr=np.array([3,4,6,9,10])"
   ]
  },
  {
   "cell_type": "code",
   "execution_count": 3,
   "id": "a3eac4fe-eea2-4f47-af63-084ab60748fe",
   "metadata": {},
   "outputs": [
    {
     "data": {
      "text/plain": [
       "array([ 3,  4,  6,  9, 10])"
      ]
     },
     "execution_count": 3,
     "metadata": {},
     "output_type": "execute_result"
    }
   ],
   "source": [
    "myarr"
   ]
  },
  {
   "cell_type": "code",
   "execution_count": 4,
   "id": "7608520a-b1b5-4c22-8d4e-306df7329de6",
   "metadata": {},
   "outputs": [
    {
     "ename": "OverflowError",
     "evalue": "Python integer 44555546 out of bounds for int8",
     "output_type": "error",
     "traceback": [
      "\u001b[1;31m---------------------------------------------------------------------------\u001b[0m",
      "\u001b[1;31mOverflowError\u001b[0m                             Traceback (most recent call last)",
      "Cell \u001b[1;32mIn[4], line 1\u001b[0m\n\u001b[1;32m----> 1\u001b[0m myar\u001b[38;5;241m=\u001b[39m\u001b[43mnp\u001b[49m\u001b[38;5;241;43m.\u001b[39;49m\u001b[43marray\u001b[49m\u001b[43m(\u001b[49m\u001b[43m[\u001b[49m\u001b[38;5;241;43m3\u001b[39;49m\u001b[43m,\u001b[49m\u001b[38;5;241;43m44555546\u001b[39;49m\u001b[43m,\u001b[49m\u001b[38;5;241;43m6\u001b[39;49m\u001b[43m,\u001b[49m\u001b[38;5;241;43m9\u001b[39;49m\u001b[43m,\u001b[49m\u001b[38;5;241;43m10\u001b[39;49m\u001b[43m]\u001b[49m\u001b[43m,\u001b[49m\u001b[43mnp\u001b[49m\u001b[38;5;241;43m.\u001b[39;49m\u001b[43mint8\u001b[49m\u001b[43m)\u001b[49m\n",
      "\u001b[1;31mOverflowError\u001b[0m: Python integer 44555546 out of bounds for int8"
     ]
    }
   ],
   "source": [
    "myar=np.array([3,44555546,6,9,10],np.int8)"
   ]
  },
  {
   "cell_type": "code",
   "execution_count": 5,
   "id": "6655d13d-c254-46c8-be3b-cd55cbafaa8c",
   "metadata": {},
   "outputs": [],
   "source": [
    "myarrr=np.array([3,44555546,6,9,10],np.int64)"
   ]
  },
  {
   "cell_type": "code",
   "execution_count": 6,
   "id": "314cb457-4a97-42df-b19d-4d6c50cf9e7b",
   "metadata": {},
   "outputs": [
    {
     "data": {
      "text/plain": [
       "array([       3, 44555546,        6,        9,       10])"
      ]
     },
     "execution_count": 6,
     "metadata": {},
     "output_type": "execute_result"
    }
   ],
   "source": [
    "myarrr"
   ]
  },
  {
   "cell_type": "code",
   "execution_count": 7,
   "id": "58cf0379-234f-4761-9f54-f1a00b23ccd0",
   "metadata": {},
   "outputs": [],
   "source": [
    "myarrrr=np.array([3,4,6,9,10])"
   ]
  },
  {
   "cell_type": "code",
   "execution_count": 8,
   "id": "b8db2205-a186-4008-a2e5-a5d2732e44f9",
   "metadata": {},
   "outputs": [
    {
     "ename": "IndexError",
     "evalue": "too many indices for array: array is 1-dimensional, but 2 were indexed",
     "output_type": "error",
     "traceback": [
      "\u001b[1;31m---------------------------------------------------------------------------\u001b[0m",
      "\u001b[1;31mIndexError\u001b[0m                                Traceback (most recent call last)",
      "Cell \u001b[1;32mIn[8], line 1\u001b[0m\n\u001b[1;32m----> 1\u001b[0m \u001b[43mmyarrrr\u001b[49m\u001b[43m[\u001b[49m\u001b[38;5;241;43m0\u001b[39;49m\u001b[43m,\u001b[49m\u001b[38;5;241;43m1\u001b[39;49m\u001b[43m]\u001b[49m\n",
      "\u001b[1;31mIndexError\u001b[0m: too many indices for array: array is 1-dimensional, but 2 were indexed"
     ]
    }
   ],
   "source": [
    "myarrrr[0,1]"
   ]
  },
  {
   "cell_type": "code",
   "execution_count": 9,
   "id": "fbf0537f-b14a-4a43-8781-7265ae99cebd",
   "metadata": {},
   "outputs": [],
   "source": [
    "myarrrrr=np.array([[3,4,6,9,10]], np.int8)"
   ]
  },
  {
   "cell_type": "code",
   "execution_count": 10,
   "id": "871ce3f5-9f12-4d4e-88a0-84e9e034660a",
   "metadata": {},
   "outputs": [
    {
     "data": {
      "text/plain": [
       "np.int8(4)"
      ]
     },
     "execution_count": 10,
     "metadata": {},
     "output_type": "execute_result"
    }
   ],
   "source": [
    "myarrrrr[0,1]"
   ]
  },
  {
   "cell_type": "code",
   "execution_count": 11,
   "id": "c14c439e-bcc7-4d0a-b06a-ed8bca082509",
   "metadata": {},
   "outputs": [
    {
     "data": {
      "text/plain": [
       "dtype('int8')"
      ]
     },
     "execution_count": 11,
     "metadata": {},
     "output_type": "execute_result"
    }
   ],
   "source": [
    "myarrrrr.dtype"
   ]
  },
  {
   "cell_type": "code",
   "execution_count": 12,
   "id": "d6918741-b50f-4c29-8b41-def10e5875eb",
   "metadata": {},
   "outputs": [],
   "source": [
    "myarrrrr[0,1]=76"
   ]
  },
  {
   "cell_type": "code",
   "execution_count": 13,
   "id": "86e5ee82-8933-4836-9c98-a1d840b86896",
   "metadata": {},
   "outputs": [
    {
     "data": {
      "text/plain": [
       "array([[ 3, 76,  6,  9, 10]], dtype=int8)"
      ]
     },
     "execution_count": 13,
     "metadata": {},
     "output_type": "execute_result"
    }
   ],
   "source": [
    "myarrrrr"
   ]
  },
  {
   "cell_type": "markdown",
   "id": "9c81f99d-84c9-49d9-bcfb-8c63b13b59ed",
   "metadata": {},
   "source": [
    "# Array Creation : Conversion from other Python structures (e.g., lists, tuples)"
   ]
  },
  {
   "cell_type": "code",
   "execution_count": 14,
   "id": "dc786bcc-5931-4c72-8ca6-3cdef2630b70",
   "metadata": {},
   "outputs": [],
   "source": [
    "listarray= np.array ([[1,2,3],[3,4,5],[5,8,0]])"
   ]
  },
  {
   "cell_type": "code",
   "execution_count": 15,
   "id": "ac6e277a-9d5d-47ae-b89f-7292dbe4ad30",
   "metadata": {},
   "outputs": [
    {
     "data": {
      "text/plain": [
       "array([[1, 2, 3],\n",
       "       [3, 4, 5],\n",
       "       [5, 8, 0]])"
      ]
     },
     "execution_count": 15,
     "metadata": {},
     "output_type": "execute_result"
    }
   ],
   "source": [
    "listarray"
   ]
  },
  {
   "cell_type": "code",
   "execution_count": 16,
   "id": "42c28f0f-7fba-4ef3-bd0a-3ee1a474a9f1",
   "metadata": {},
   "outputs": [
    {
     "data": {
      "text/plain": [
       "(3, 3)"
      ]
     },
     "execution_count": 16,
     "metadata": {},
     "output_type": "execute_result"
    }
   ],
   "source": [
    "listarray.shape"
   ]
  },
  {
   "cell_type": "code",
   "execution_count": 17,
   "id": "c69f5f2e-0991-4d9b-be11-17ee69798eec",
   "metadata": {},
   "outputs": [
    {
     "data": {
      "text/plain": [
       "dtype('int64')"
      ]
     },
     "execution_count": 17,
     "metadata": {},
     "output_type": "execute_result"
    }
   ],
   "source": [
    "listarray.dtype"
   ]
  },
  {
   "cell_type": "code",
   "execution_count": 18,
   "id": "19634b89-f2bf-4328-96fc-b224c12b5d17",
   "metadata": {},
   "outputs": [
    {
     "data": {
      "text/plain": [
       "(3, 3)"
      ]
     },
     "execution_count": 18,
     "metadata": {},
     "output_type": "execute_result"
    }
   ],
   "source": [
    "listarray.shape"
   ]
  },
  {
   "cell_type": "code",
   "execution_count": 19,
   "id": "d1e14e8e-9a67-4673-a611-814cbe1cb4c0",
   "metadata": {},
   "outputs": [
    {
     "data": {
      "text/plain": [
       "9"
      ]
     },
     "execution_count": 19,
     "metadata": {},
     "output_type": "execute_result"
    }
   ],
   "source": [
    "listarray.size"
   ]
  },
  {
   "cell_type": "markdown",
   "id": "5a22d906-d126-426d-96ef-6beb6971eb1c",
   "metadata": {},
   "source": [
    "# Intrinsic numpy array creation objects (e.g., arange, ones, zeros, etc.)"
   ]
  },
  {
   "cell_type": "code",
   "execution_count": 24,
   "id": "708d55ba-8e39-4c46-addb-f8d5fbfd23d2",
   "metadata": {},
   "outputs": [],
   "source": [
    "zeros = np.zeros((3, 5))"
   ]
  },
  {
   "cell_type": "code",
   "execution_count": 25,
   "id": "e9baed01-2d4e-4635-a8a3-9f12766deda1",
   "metadata": {},
   "outputs": [
    {
     "data": {
      "text/plain": [
       "array([[0., 0., 0., 0., 0.],\n",
       "       [0., 0., 0., 0., 0.],\n",
       "       [0., 0., 0., 0., 0.]])"
      ]
     },
     "execution_count": 25,
     "metadata": {},
     "output_type": "execute_result"
    }
   ],
   "source": [
    "zeros"
   ]
  },
  {
   "cell_type": "code",
   "execution_count": 27,
   "id": "78e0108c-b236-40e7-ae2a-15b9497489cc",
   "metadata": {},
   "outputs": [],
   "source": [
    "rng=np.arange(15)"
   ]
  },
  {
   "cell_type": "code",
   "execution_count": 28,
   "id": "c684209d-750c-4db8-9b83-d242c448a277",
   "metadata": {},
   "outputs": [
    {
     "data": {
      "text/plain": [
       "array([ 0,  1,  2,  3,  4,  5,  6,  7,  8,  9, 10, 11, 12, 13, 14])"
      ]
     },
     "execution_count": 28,
     "metadata": {},
     "output_type": "execute_result"
    }
   ],
   "source": [
    "rng"
   ]
  },
  {
   "cell_type": "code",
   "execution_count": 29,
   "id": "24d04b67-298e-44e5-8d38-2d49116b2f24",
   "metadata": {},
   "outputs": [],
   "source": [
    "lspace=np.linspace(1,6,14)"
   ]
  },
  {
   "cell_type": "code",
   "execution_count": 30,
   "id": "93a015a0-2787-4aad-8f8c-709314a098d7",
   "metadata": {},
   "outputs": [
    {
     "data": {
      "text/plain": [
       "array([1.        , 1.38461538, 1.76923077, 2.15384615, 2.53846154,\n",
       "       2.92307692, 3.30769231, 3.69230769, 4.07692308, 4.46153846,\n",
       "       4.84615385, 5.23076923, 5.61538462, 6.        ])"
      ]
     },
     "execution_count": 30,
     "metadata": {},
     "output_type": "execute_result"
    }
   ],
   "source": [
    "lspace"
   ]
  },
  {
   "cell_type": "code",
   "execution_count": 31,
   "id": "b9e3af8a-36eb-4f9f-b2a7-a081111e4f34",
   "metadata": {},
   "outputs": [],
   "source": [
    "emp=np.empty((4,6))"
   ]
  },
  {
   "cell_type": "code",
   "execution_count": 32,
   "id": "45ffe538-ae43-4966-ac97-a632ed2b1753",
   "metadata": {},
   "outputs": [
    {
     "data": {
      "text/plain": [
       "array([[6.77482612e-312, 7.70742408e-322, 0.00000000e+000,\n",
       "        0.00000000e+000, 6.23053614e-307, 1.15998412e-028],\n",
       "       [4.31603868e-080, 1.94919985e-153, 1.35717430e+131,\n",
       "        7.06652016e-096, 7.06652016e-096, 1.81148490e-152],\n",
       "       [9.37041222e-076, 6.98345624e-077, 6.98345624e-077,\n",
       "        6.01391519e-154, 7.06673073e-096, 7.06652016e-096],\n",
       "       [7.18988929e+140, 4.99874708e+217, 4.47303447e-143,\n",
       "        1.46899974e+179, 9.08367237e+223, 1.16466228e-028]])"
      ]
     },
     "execution_count": 32,
     "metadata": {},
     "output_type": "execute_result"
    }
   ],
   "source": [
    "emp"
   ]
  },
  {
   "cell_type": "code",
   "execution_count": 33,
   "id": "914ebf88-ec74-45b2-8191-3289c014d68a",
   "metadata": {},
   "outputs": [],
   "source": [
    " emp_like=np.empty_like(lspace)"
   ]
  },
  {
   "cell_type": "code",
   "execution_count": 34,
   "id": "95df8bfd-fdb5-43f5-8de8-b9465dd7e528",
   "metadata": {},
   "outputs": [
    {
     "data": {
      "text/plain": [
       "array([1.        , 1.38461538, 1.76923077, 2.15384615, 2.53846154,\n",
       "       2.92307692, 3.30769231, 3.69230769, 4.07692308, 4.46153846,\n",
       "       4.84615385, 5.23076923, 5.61538462, 6.        ])"
      ]
     },
     "execution_count": 34,
     "metadata": {},
     "output_type": "execute_result"
    }
   ],
   "source": [
    "emp_like"
   ]
  },
  {
   "cell_type": "code",
   "execution_count": 35,
   "id": "fb8887d4-a9fd-4b23-aa6f-acdb2ea73726",
   "metadata": {},
   "outputs": [],
   "source": [
    "ide=np.identity(45)"
   ]
  },
  {
   "cell_type": "code",
   "execution_count": 36,
   "id": "148ff0ec-0af7-4acb-b466-7fda7fa630c9",
   "metadata": {},
   "outputs": [
    {
     "data": {
      "text/plain": [
       "array([[1., 0., 0., ..., 0., 0., 0.],\n",
       "       [0., 1., 0., ..., 0., 0., 0.],\n",
       "       [0., 0., 1., ..., 0., 0., 0.],\n",
       "       ...,\n",
       "       [0., 0., 0., ..., 1., 0., 0.],\n",
       "       [0., 0., 0., ..., 0., 1., 0.],\n",
       "       [0., 0., 0., ..., 0., 0., 1.]])"
      ]
     },
     "execution_count": 36,
     "metadata": {},
     "output_type": "execute_result"
    }
   ],
   "source": [
    "ide"
   ]
  },
  {
   "cell_type": "code",
   "execution_count": 37,
   "id": "2080851f-c881-438d-933c-5d5ad2308015",
   "metadata": {},
   "outputs": [],
   "source": [
    "arr=np.arange(45)"
   ]
  },
  {
   "cell_type": "code",
   "execution_count": 38,
   "id": "50dbcd74-63c9-4863-9be4-83e8b3086003",
   "metadata": {},
   "outputs": [
    {
     "data": {
      "text/plain": [
       "array([ 0,  1,  2,  3,  4,  5,  6,  7,  8,  9, 10, 11, 12, 13, 14, 15, 16,\n",
       "       17, 18, 19, 20, 21, 22, 23, 24, 25, 26, 27, 28, 29, 30, 31, 32, 33,\n",
       "       34, 35, 36, 37, 38, 39, 40, 41, 42, 43, 44])"
      ]
     },
     "execution_count": 38,
     "metadata": {},
     "output_type": "execute_result"
    }
   ],
   "source": [
    "arr"
   ]
  },
  {
   "cell_type": "code",
   "execution_count": 40,
   "id": "6b552d9b-bc21-407b-9128-f68e4c6d3e45",
   "metadata": {},
   "outputs": [
    {
     "data": {
      "text/plain": [
       "array([[ 0,  1,  2,  3,  4,  5,  6,  7,  8,  9, 10, 11, 12, 13, 14],\n",
       "       [15, 16, 17, 18, 19, 20, 21, 22, 23, 24, 25, 26, 27, 28, 29],\n",
       "       [30, 31, 32, 33, 34, 35, 36, 37, 38, 39, 40, 41, 42, 43, 44]])"
      ]
     },
     "execution_count": 40,
     "metadata": {},
     "output_type": "execute_result"
    }
   ],
   "source": [
    "arr.reshape(3,15)"
   ]
  },
  {
   "cell_type": "code",
   "execution_count": 41,
   "id": "7faf0f2b-3810-47a2-bf23-8510f1a57c82",
   "metadata": {},
   "outputs": [
    {
     "data": {
      "text/plain": [
       "array([ 0,  1,  2,  3,  4,  5,  6,  7,  8,  9, 10, 11, 12, 13, 14, 15, 16,\n",
       "       17, 18, 19, 20, 21, 22, 23, 24, 25, 26, 27, 28, 29, 30, 31, 32, 33,\n",
       "       34, 35, 36, 37, 38, 39, 40, 41, 42, 43, 44])"
      ]
     },
     "execution_count": 41,
     "metadata": {},
     "output_type": "execute_result"
    }
   ],
   "source": [
    "arr"
   ]
  },
  {
   "cell_type": "code",
   "execution_count": 42,
   "id": "48ba4dff-a199-49ee-a244-594efc19a68b",
   "metadata": {},
   "outputs": [],
   "source": [
    "arr=arr.reshape(3,15)"
   ]
  },
  {
   "cell_type": "code",
   "execution_count": 43,
   "id": "de1dd71b-d7b2-494f-a39f-897be1b9a4f0",
   "metadata": {},
   "outputs": [
    {
     "data": {
      "text/plain": [
       "array([[ 0,  1,  2,  3,  4,  5,  6,  7,  8,  9, 10, 11, 12, 13, 14],\n",
       "       [15, 16, 17, 18, 19, 20, 21, 22, 23, 24, 25, 26, 27, 28, 29],\n",
       "       [30, 31, 32, 33, 34, 35, 36, 37, 38, 39, 40, 41, 42, 43, 44]])"
      ]
     },
     "execution_count": 43,
     "metadata": {},
     "output_type": "execute_result"
    }
   ],
   "source": [
    "arr"
   ]
  },
  {
   "cell_type": "code",
   "execution_count": 44,
   "id": "030e6092-c333-40c0-93b7-469bdce7fb0b",
   "metadata": {},
   "outputs": [],
   "source": [
    "arr=arr.ravel()"
   ]
  },
  {
   "cell_type": "code",
   "execution_count": 45,
   "id": "0bdb6561-7a68-4d18-b618-1b19e3056719",
   "metadata": {},
   "outputs": [
    {
     "data": {
      "text/plain": [
       "array([ 0,  1,  2,  3,  4,  5,  6,  7,  8,  9, 10, 11, 12, 13, 14, 15, 16,\n",
       "       17, 18, 19, 20, 21, 22, 23, 24, 25, 26, 27, 28, 29, 30, 31, 32, 33,\n",
       "       34, 35, 36, 37, 38, 39, 40, 41, 42, 43, 44])"
      ]
     },
     "execution_count": 45,
     "metadata": {},
     "output_type": "execute_result"
    }
   ],
   "source": [
    "arr"
   ]
  },
  {
   "cell_type": "code",
   "execution_count": null,
   "id": "33ced8b5-bd0e-4db7-ae3d-196b25d051ee",
   "metadata": {},
   "outputs": [],
   "source": [
    "  "
   ]
  }
 ],
 "metadata": {
  "kernelspec": {
   "display_name": "Python 3 (ipykernel)",
   "language": "python",
   "name": "python3"
  },
  "language_info": {
   "codemirror_mode": {
    "name": "ipython",
    "version": 3
   },
   "file_extension": ".py",
   "mimetype": "text/x-python",
   "name": "python",
   "nbconvert_exporter": "python",
   "pygments_lexer": "ipython3",
   "version": "3.12.2"
  }
 },
 "nbformat": 4,
 "nbformat_minor": 5
}
