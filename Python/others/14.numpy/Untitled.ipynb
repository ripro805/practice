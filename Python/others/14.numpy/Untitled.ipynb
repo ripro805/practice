{
 "cells": [
  {
   "cell_type": "code",
   "execution_count": null,
   "id": "e29bc226-677c-4d59-bd33-8f2299983eb8",
   "metadata": {},
   "outputs": [],
   "source": []
  }
 ],
 "metadata": {
  "kernelspec": {
   "display_name": "",
   "name": ""
  },
  "language_info": {
   "name": ""
  }
 },
 "nbformat": 4,
 "nbformat_minor": 5
}
